{
 "cells": [
  {
   "cell_type": "markdown",
   "metadata": {
    "collapsed": false,
    "deletable": false,
    "editable": false,
    "nbgrader": {
     "grade": false,
     "grade_id": "0c2615",
     "locked": true,
     "schema_version": 3,
     "solution": false,
     "task": false
    }
   },
   "source": [
    "# PHYS 210 Mini-Project 03\n",
    "### Ferromagneticsm\n",
    "Due Wed, Nov 23, 2022 - 9am"
   ]
  },
  {
   "cell_type": "markdown",
   "metadata": {
    "collapsed": false,
    "deletable": false,
    "editable": false,
    "nbgrader": {
     "grade": false,
     "grade_id": "cell-5d2cd2b82e190c0d0",
     "locked": true,
     "schema_version": 3,
     "solution": false,
     "task": false
    }
   },
   "source": [
    "#### Project objective\n",
    "\n",
    "Explore the Curie temperature and the Ising model of Ferromagnetism\n",
    "\n",
    "#### Before getting started\n",
    "\n",
    "* Read the Mini-Project 03 background handout in the same folder as this notebook. It provides all the details."
   ]
  },
  {
   "cell_type": "code",
   "execution_count": 1,
   "metadata": {
    "collapsed": false,
    "deletable": false,
    "nbgrader": {
     "cell_type": "code",
     "checksum": "04afa971d75dff9fcbbb6c16be2d635b",
     "grade": true,
     "grade_id": "cell-project3-1",
     "locked": false,
     "points": 0,
     "schema_version": 3,
     "solution": true,
     "task": false
    }
   },
   "outputs": [],
   "source": [
    "# Main code here - generate plots and animations in individual cells below.\n",
    "# YOUR CODE HERE\n",
    "import numpy as np\n",
    "import matplotlib.pyplot as plt\n",
    "import matplotlib.animation as animation\n",
    "from IPython.display import HTML\n",
    "\n",
    "T = np.array([0.01, 0.1, 1, 2, 3, 4, 5, 10,\n",
    "              100])  # array of temperatures to simulate\n",
    "possible_spins = np.array([1, -1])  # array of possible spins\n",
    "size = 50  # size of grid = 50 x 50\n",
    "iteration_per_T = 5  # repeat the simulation 5 times per temperature\n",
    "converging_iterations = 600000  # system converges after 600000 iterations\n",
    "\n",
    "\n",
    "def lattice_energy(spins):\n",
    "    \"\"\"\n",
    "    Function to calculate the energy of the lattice using the model\n",
    "    input: spins = square lattice of electrons\n",
    "    H(sigma) = -J/2 \\sum_i^N \\sum_j^N  \\sigma_{i,j} * neighbor_sum\n",
    "    neighbor_sum = \\sigma_{i-1,j} + \\sigma_{i+1,j}\n",
    "    + \\sigma_{i,j-1} + \\sigma_{i,j+1}\n",
    "    \"\"\"\n",
    "    H = 0  # energy of the lattice H(σ)\n",
    "    for i in range(len(spins)):\n",
    "        for j in range(len(spins[0])):\n",
    "            # if the index is out of range\n",
    "            # go to the other end of the lattice\n",
    "            neighbor_sum = 0\n",
    "            if i + 1 < len(spins):\n",
    "                neighbor_sum += spins[i + 1, j]\n",
    "            else:\n",
    "                neighbor_sum += spins[0, j]\n",
    "            if j + 1 < len(spins[0]):\n",
    "                neighbor_sum += spins[i, j + 1]\n",
    "            else:\n",
    "                neighbor_sum += spins[i, 0]\n",
    "            H += spins[i, j] * neighbor_sum\n",
    "    H = -0.5 * H\n",
    "\n",
    "    # returns energy and neighbor sum for lattice_energy2(...)\n",
    "    return H, neighbor_sum\n",
    "\n",
    "\n",
    "def lattice_energy2(arr, energy, loc, neighbor_sum):\n",
    "    \"\"\"\n",
    "    Function to calculate the energy of the new lattice\n",
    "    the new energy can be calculated by\n",
    "    (E1 * 1/(-J/2) - 2\n",
    "    *(flipped electron spin * neighbor sum))\n",
    "    *(-J/2) where J = 1\n",
    "    returns the energy of the new lattice\n",
    "    \"\"\"\n",
    "    energy2 = energy * (-2) - 2 * arr[loc[0], loc[1]] * neighbor_sum\n",
    "    energy2 = energy2 * (-0.5)\n",
    "    return energy2\n",
    "\n",
    "\n",
    "def random_flip(arr):\n",
    "    \"\"\"\n",
    "    Flips the spin of a random electron at loc in arr\n",
    "    Returns the location of the flipped electron\n",
    "    \"\"\"\n",
    "    random_row = np.random.randint(0, len(arr))\n",
    "    random_column = np.random.randint(0, len(arr[0]))\n",
    "    arr[random_row, random_column] *= -1\n",
    "    return [random_row, random_column]\n",
    "\n",
    "\n",
    "def start_simulation(Temperature):\n",
    "    \"\"\"\n",
    "    1.  create a new lattice\n",
    "    2.  copy the lattice to lattice2\n",
    "    3.  flip an electron on lattice2\n",
    "    4.  if energy2 < energy, accept lattice2\n",
    "        (energy = energy of lattice, energy = energy of lattice 2)\n",
    "    5. generate a random num: 0 < num < 1 if energy2 > energy\n",
    "    6. compare probability P = P(lattice2) / P(lattice) and random num\n",
    "    7. accept lattice2 if random num <= P\n",
    "    8. reject the lattice2 if random num > P\n",
    "    9. repeat the steps above from step 2 for 600000 times\n",
    "    (assume the system converges after 600000 iterations)\n",
    "    Accpet the lattice by appending lattice2 to a list of lattices\n",
    "        and upadate lattice to lattice2\n",
    "    \"\"\"\n",
    "    # create a new 50x50 array of electrons with random spin (1 or -1)\n",
    "    lattice = np.random.choice(possible_spins, size * size).reshape(size, size)\n",
    "    lattices = []  # list of lattices\n",
    "    lattices.append(lattice)\n",
    "    E1, neighbor_sum = lattice_energy(lattice)\n",
    "\n",
    "    for i in range(converging_iterations):\n",
    "        # copy the lattice to a new lattice so\n",
    "        # the original lattice won't be affected\n",
    "        lattice2 = np.copy(lattice)\n",
    "        # flip the spin of a random electron in the new lattice\n",
    "        loc = random_flip(lattice2)\n",
    "        E2 = lattice_energy2(lattice, E1, loc, neighbor_sum)\n",
    "        if E2 < E1:\n",
    "            # accept new lattice if E2 < E\n",
    "            lattice = lattice2\n",
    "            lattices.append(lattice)\n",
    "            E1 = E2\n",
    "        else:\n",
    "            random_num = np.random.random_sample()\n",
    "            P = np.exp((E1 - E2) / Temperature)\n",
    "            if random_num <= P:\n",
    "                # accept new lattice if E2 > E and random_num <= P\n",
    "                lattice = lattice2\n",
    "                lattices.append(lattice)\n",
    "                E1 = E2\n",
    "            else:\n",
    "                # reject new lattice if E2 > E and random_num > P\n",
    "                pass\n",
    "    # returns a list of lattices containing the evolution of the system\n",
    "    return lattices\n",
    "\n",
    "\n",
    "def magnetic_moment(arr):\n",
    "    \"\"\"\n",
    "    calculate the magnetic moment of the system in arr\n",
    "    M = mu/N \\sum_i^N \\sigma_i = mu * mean of arr\n",
    "    when mu = 1, M = mean of arr\n",
    "    \"\"\"\n",
    "    return np.mean(arr)  # returns the magnatic moment of the lattice\n",
    "\n",
    "\n",
    "def anim(T, step):\n",
    "    \"\"\"\n",
    "    Function used to animate the system of electrons\n",
    "    input T: set the temperature of the system\n",
    "       Step: set the step between each frame to animate\n",
    "    Saves the animation created in current directory\n",
    "    \"\"\"\n",
    "    fig = plt.figure(figsize=(8, 6))  # Create a new figure\n",
    "    plt.title(\"Evolution of the lattice of electrons\")\n",
    "    ims = []  # List to store our grids of random numbers\n",
    "    lattices = start_simulation(T)\n",
    "\n",
    "    # append frames to ims\n",
    "    for data in lattices[0:len(lattices):step]:\n",
    "        img = plt.pcolormesh(data, cmap=\"binary_r\")\n",
    "        ims.append((img, ))  # each image added as a tuple\n",
    "\n",
    "    # Animate frames stored in ims\n",
    "    imani = animation.ArtistAnimation(\n",
    "        fig,  # Not used here, but would be needed for resizing, etc\n",
    "        ims,  # The list to animate\n",
    "        repeat_delay=10)\n",
    "\n",
    "    plt.colorbar(img)\n",
    "    imani.save('Lattice_Evolution_{temp}_.gif'.format(temp=T),\n",
    "               writer=animation.PillowWriter(fps=60))\n",
    "    plt.close()  # Prevents a stray plot from appearing\n",
    "    del ims  # Release crucial Cocal memory related to these objects\n",
    "    del imani  #\n",
    "\n",
    "    HTML('<img src=\"random.gif\">')\n",
    "    return"
   ]
  },
  {
   "cell_type": "code",
   "execution_count": 2,
   "metadata": {
    "collapsed": false,
    "deletable": false,
    "nbgrader": {
     "cell_type": "code",
     "checksum": "ce9369019ea5952bbf9232be1ecc500d",
     "grade": true,
     "grade_id": "cell-project3-2",
     "locked": false,
     "points": 0,
     "schema_version": 3,
     "solution": true,
     "task": false
    }
   },
   "outputs": [
    {
     "name": "stdout",
     "output_type": "stream",
     "text": [
      "Curie Temperature is about 1.5K\n"
     ]
    },
    {
     "data": {
      "image/png": "[encoded data removed]",
      "text/plain": [
       "<Figure size 432x288 with 1 Axes>"
      ]
     },
     "metadata": {
      "needs_background": "light"
     },
     "output_type": "display_data"
    }
   ],
   "source": [
    "# Generate Deliverable 1 here: Plot of M vs T\n",
    "# YOUR CODE HERE\n",
    "M_arr = []\n",
    "for temp in T:  # loop through each temperature\n",
    "    M_for_Temp = []\n",
    "    for i in range(iteration_per_T):  # repeat simulation 5 times\n",
    "        lattices = start_simulation(temp)\n",
    "        converged_lattice = lattices[-1]\n",
    "        M_for_Temp.append(abs(magnetic_moment(converged_lattice)))\n",
    "    M = max(M_for_Temp)  # find magnetic moment\n",
    "    # create a list of magnetic moment for different temperatures\n",
    "    M_arr.append(M)\n",
    "\n",
    "print(\"Curie Temperature is about 1.5K\")\n",
    "\n",
    "# make plot\n",
    "plt.plot(T, M_arr)\n",
    "plt.xscale(\"log\")\n",
    "plt.xlabel(\"Temperature (log scale) in Kelvin\")\n",
    "plt.ylabel(\"Maximum Magnetic Moment J/T\")\n",
    "plt.title(\"Magnetic Moment vs Temperature\")\n",
    "plt.show()\n",
    "plt.close()"
   ]
  },
  {
   "cell_type": "code",
   "execution_count": 3,
   "metadata": {
    "collapsed": false,
    "deletable": false,
    "nbgrader": {
     "cell_type": "code",
     "checksum": "ba3ab25de267a98832a98cf43b348221",
     "grade": true,
     "grade_id": "cell-project3-3",
     "locked": false,
     "points": 0,
     "schema_version": 3,
     "solution": true,
     "task": false
    }
   },
   "outputs": [],
   "source": [
    "# Generate Deliverable 2.1 here: Animation for T = 0.1\n",
    "# YOUR CODE HERE\n",
    "anim(0.1, 2000)"
   ]
  },
  {
   "cell_type": "code",
   "execution_count": 4,
   "metadata": {
    "collapsed": false,
    "deletable": false,
    "nbgrader": {
     "cell_type": "code",
     "checksum": "5ee7f75c2fc9fcf263cb069cffc3d6a7",
     "grade": true,
     "grade_id": "cell-project3-4",
     "locked": false,
     "points": 0,
     "schema_version": 3,
     "solution": true,
     "task": false
    }
   },
   "outputs": [],
   "source": [
    "# Generate Deliverable 2.2 here: Animation for T = 2.5\n",
    "# YOUR CODE HERE\n",
    "anim(2.5, 2000)"
   ]
  },
  {
   "cell_type": "code",
   "execution_count": 5,
   "metadata": {
    "collapsed": false,
    "deletable": false,
    "nbgrader": {
     "cell_type": "code",
     "checksum": "378bc53b7b79944e9c8fe10dcdfab7e1",
     "grade": true,
     "grade_id": "cell-project3-5",
     "locked": false,
     "points": 0,
     "schema_version": 3,
     "solution": true,
     "task": false
    }
   },
   "outputs": [],
   "source": [
    "# Generate Deliverable 2.3 here: Animation for T = 100\n",
    "# YOUR CODE HERE\n",
    "anim(100, 2000)"
   ]
  },
  {
   "cell_type": "markdown",
   "metadata": {
    "collapsed": false,
    "deletable": false,
    "editable": false,
    "nbgrader": {
     "grade": false,
     "grade_id": "cf5dfa",
     "locked": true,
     "schema_version": 3,
     "solution": false,
     "task": false
    }
   },
   "source": [
    "# Acknowledgements\n",
    "\n",
    "In the cell below, please describe the role of **anyone other than yourself** who contributed to the work shown in this notebook.\n",
    "\n",
    "Its ok to get help from us and classmates! Please get in the habit of acknowledging such contributions.\n",
    "\n",
    "If you want to refer to a classmate, please use only their cocalc email-id and not their name - or you could just say something like: \"a classmate gave me the idea to use xxx feature to solve yyy problem.\"\n"
   ]
  },
  {
   "cell_type": "markdown",
   "metadata": {
    "collapsed": false
   },
   "source": [
    "_Acknowledgements here:_\n",
    "\n"
   ]
  },
  {
   "cell_type": "markdown",
   "metadata": {
    "collapsed": false,
    "deletable": false,
    "editable": false,
    "nbgrader": {
     "grade": false,
     "grade_id": "5a51c40",
     "locked": true,
     "schema_version": 3,
     "solution": false,
     "task": false
    }
   },
   "source": [
    "# Extension Code and Description\n",
    "All solution code for the main project question should appear in the cell \"cell-project1-main\" above. Project extensions go in the cell \"cell-extension\" immediately below and the descriptions of your extension go in the cell below that."
   ]
  },
  {
   "cell_type": "code",
   "execution_count": 6,
   "metadata": {
    "collapsed": false,
    "deletable": false,
    "nbgrader": {
     "cell_type": "code",
     "checksum": "887dd39afb49072de92ec16acce3a808",
     "grade": true,
     "grade_id": "cell-extension",
     "locked": false,
     "points": 3,
     "schema_version": 3,
     "solution": true,
     "task": false
    }
   },
   "outputs": [],
   "source": [
    "# OPTIONAL project extension here\n",
    "# These can call functions in your code above if desired\n",
    "# YOUR CODE HERE\n"
   ]
  },
  {
   "cell_type": "markdown",
   "metadata": {
    "collapsed": false
   },
   "source": [
    "_In this cell, please describe any new language features or project extension you have implemented:_\n",
    "\n",
    "\n"
   ]
  },
  {
   "cell_type": "markdown",
   "metadata": {
    "collapsed": false,
    "deletable": false,
    "editable": false,
    "nbgrader": {
     "grade": false,
     "grade_id": "grading-header",
     "locked": true,
     "schema_version": 3,
     "solution": false,
     "task": false
    }
   },
   "source": [
    "# Grading cells\n",
    "The cells below marked as \"grade use only\" are created as placeholders so that we can provide a manual grade and comments for each category. \n",
    "\n",
    "Exceptions are the \"2. Style\" test, which has an associated autograder test that you can run to check style and the timing cell \"cell-optimization0\", which you can use to test your code execution time."
   ]
  },
  {
   "cell_type": "code",
   "execution_count": 7,
   "metadata": {
    "collapsed": false,
    "deletable": false,
    "nbgrader": {
     "cell_type": "code",
     "checksum": "5fddc8dcc07404068c6f34898e8762c9",
     "grade": true,
     "grade_id": "cell-executes",
     "locked": false,
     "points": 20,
     "schema_version": 3,
     "solution": true,
     "task": false
    }
   },
   "outputs": [],
   "source": [
    "# 1. Code execution (grader use only)"
   ]
  },
  {
   "cell_type": "code",
   "execution_count": 8,
   "metadata": {
    "collapsed": false,
    "deletable": false,
    "editable": false,
    "nbgrader": {
     "grade": true,
     "grade_id": "cell-style",
     "locked": true,
     "points": 5,
     "schema_version": 3,
     "solution": false,
     "task": false
    }
   },
   "outputs": [
    {
     "name": "stdout",
     "output_type": "stream",
     "text": [
      "checking cell: cell-project3-1\n",
      "checking cell: cell-project3-2\n",
      "checking cell: cell-project3-3\n",
      "checking cell: cell-project3-4\n",
      "checking cell: cell-project3-5\n"
     ]
    }
   ],
   "source": [
    "# 2. Style: pep8 (see note below regarding use of the Format button to fix many errors)\n",
    "#\n",
    "# Tests for pep8 returns warnings or errors. You may need to hit 'Save' after making changes for them to take effect.\n",
    "nb_name = \"project03.ipynb\"\n",
    "cells_to_check = []\n",
    "stop_at = ['cell-extension']\n",
    "# check_style2.py uses cells_to_check and nb_name\n",
    "%run -i check_style2.py"
   ]
  },
  {
   "cell_type": "markdown",
   "metadata": {
    "collapsed": false,
    "deletable": false,
    "editable": false,
    "nbgrader": {
     "grade": false,
     "grade_id": "87d438",
     "locked": true,
     "schema_version": 3,
     "solution": false,
     "task": false
    }
   },
   "source": [
    "Also note that you can use the Format button while in a code cell to automagically fix most pep8 errors (other than way too long print statements)\n",
    "\n",
    "![](project02-format.png)"
   ]
  },
  {
   "cell_type": "code",
   "execution_count": 9,
   "metadata": {
    "collapsed": false,
    "deletable": false,
    "nbgrader": {
     "cell_type": "code",
     "checksum": "0bfba331bdaa16e3e38c7f315efdff77",
     "grade": true,
     "grade_id": "cell-results",
     "locked": false,
     "points": 25,
     "schema_version": 3,
     "solution": true,
     "task": false
    }
   },
   "outputs": [],
   "source": [
    "# 3. Results (grader use only)"
   ]
  },
  {
   "cell_type": "code",
   "execution_count": 10,
   "metadata": {
    "collapsed": false,
    "deletable": false,
    "nbgrader": {
     "cell_type": "code",
     "checksum": "f39a7cf08454b2b3946e33e39f851429",
     "grade": true,
     "grade_id": "cell-readability",
     "locked": false,
     "points": 30,
     "schema_version": 3,
     "solution": true,
     "task": false
    }
   },
   "outputs": [],
   "source": [
    "# 4. Readability (grader use only)\n"
   ]
  },
  {
   "cell_type": "code",
   "execution_count": 11,
   "metadata": {
    "collapsed": false,
    "deletable": false,
    "nbgrader": {
     "cell_type": "code",
     "checksum": "5f88731ac323e35ec9219653b4ac085b",
     "grade": true,
     "grade_id": "cell-plots",
     "locked": false,
     "points": 15,
     "schema_version": 3,
     "solution": true,
     "task": false
    }
   },
   "outputs": [],
   "source": [
    "# 5. Plot (grader use only)"
   ]
  },
  {
   "cell_type": "code",
   "execution_count": 12,
   "metadata": {
    "collapsed": false,
    "deletable": false,
    "editable": false,
    "nbgrader": {
     "grade": true,
     "grade_id": "cell-optimization0",
     "locked": true,
     "points": 0,
     "schema_version": 3,
     "solution": false,
     "task": false
    }
   },
   "outputs": [
    {
     "name": "stdout",
     "output_type": "stream",
     "text": [
      "Time for cell: cell-project3-1 time: 0.00\n"
     ]
    }
   ],
   "source": [
    "# Check execution time\n",
    "nb_name = \"project03.ipynb\"\n",
    "cells_to_time = []\n",
    "stop_at = ['cell-extension']\n",
    "%run -i time_cells2.py"
   ]
  },
  {
   "cell_type": "code",
   "execution_count": null,
   "metadata": {
    "collapsed": false,
    "deletable": false,
    "nbgrader": {
     "cell_type": "code",
     "checksum": "a8a3076187fd64d1224573d70288d2a0",
     "grade": true,
     "grade_id": "cell-optimization1",
     "locked": false,
     "points": 5,
     "schema_version": 3,
     "solution": true,
     "task": false
    }
   },
   "outputs": [],
   "source": [
    "# 5. Code optimization/timing (grader use only)\n"
   ]
  },
  {
   "cell_type": "code",
   "execution_count": null,
   "metadata": {
    "collapsed": false,
    "deletable": false,
    "nbgrader": {
     "cell_type": "code",
     "checksum": "f3bfbc592099991ad62d237a378affe1",
     "grade": true,
     "grade_id": "cell-new_features",
     "locked": false,
     "points": 2,
     "schema_version": 3,
     "solution": true,
     "task": false
    }
   },
   "outputs": [],
   "source": [
    "# B2. New Functionality/Language features (grader use only)"
   ]
  }
 ],
 "metadata": {
  "celltoolbar": "Create Assignment",
  "kernelspec": {
   "display_name": "Python 3.8.5 ('base')",
   "language": "python",
   "name": "python3"
  },
  "language_info": {
   "codemirror_mode": {
    "name": "ipython",
    "version": 3
   },
   "file_extension": ".py",
   "mimetype": "text/x-python",
   "name": "python",
   "nbconvert_exporter": "python",
   "pygments_lexer": "ipython3",
   "version": "3.8.5 (default, Sep  4 2020, 02:22:02) \n[Clang 10.0.0 ]"
  },
  "nbgrader": {
   "__altered": false,
   "__hash": -404592343,
   "_root": {
    "entries": [
     [
      "__altered",
      false
     ],
     [
      "__hash",
      -679907196
     ],
     [
      "_root",
      {
       "entries": [
        [
         "__altered",
         false
        ],
        [
         "__hash",
         -651869538
        ],
        [
         "_root",
         {
          "entries": [
           [
            "size",
            6
           ],
           [
            "_root",
            {
             "entries": [
              [
               "size",
               5
              ],
              [
               "_root",
               {
                "entries": [
                 [
                  "__altered",
                  false
                 ],
                 [
                  "__hash",
                  -1072767477
                 ],
                 [
                  "_root",
                  {
                   "entries": [
                    [
                     "size",
                     6
                    ],
                    [
                     "_root",
                     {
                      "entries": [
                       [
                        "size",
                        1
                       ],
                       [
                        "_root",
                        {
                         "entries": [
                          [
                           "cocalc_minimal_stubs",
                           false
                          ]
                         ],
                         "ownerID": {}
                        }
                       ],
                       [
                        "__ownerID",
                        null
                       ],
                       [
                        "__hash",
                        -335098374
                       ],
                       [
                        "__altered",
                        false
                       ],
                       [
                        "cocalc_minimal_stubs",
                        false
                       ]
                      ],
                      "ownerID": {}
                     }
                    ],
                    [
                     "__hash",
                     -1062824929
                    ],
                    [
                     "__altered",
                     false
                    ],
                    [
                     "cocalc_minimal_stubs",
                     false
                    ]
                   ],
                   "ownerID": {}
                  }
                 ],
                 [
                  "cocalc_minimal_stubs",
                  false
                 ],
                 [
                  "size",
                  5
                 ]
                ],
                "ownerID": {}
               }
              ],
              [
               "__ownerID",
               null
              ],
              [
               "__hash",
               250283375
              ],
              [
               "__altered",
               false
              ],
              [
               "cocalc_minimal_stubs",
               false
              ]
             ],
             "ownerID": {}
            }
           ],
           [
            "__ownerID",
            null
           ],
           [
            "__hash",
            -24045107
           ],
           [
            "__altered",
            false
           ],
           [
            "cocalc_minimal_stubs",
            false
           ]
          ],
          "ownerID": {}
         }
        ],
        [
         "cocalc_minimal_stubs",
         false
        ],
        [
         "size",
         6
        ]
       ],
       "ownerID": {}
      }
     ],
     [
      "cocalc_minimal_stubs",
      false
     ],
     [
      "size",
      5
     ]
    ],
    "ownerID": {}
   },
   "cocalc_minimal_stubs": false,
   "size": 5
  },
  "vscode": {
   "interpreter": {
    "hash": "5244e453a32edc7a8078066d929638a5a6226b7f501c8ffabfe8212afb9d979d"
   }
  }
 },
 "nbformat": 4,
 "nbformat_minor": 4
}
