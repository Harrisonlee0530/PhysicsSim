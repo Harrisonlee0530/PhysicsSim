{
 "cells": [
  {
   "cell_type": "markdown",
   "metadata": {
    "collapsed": false,
    "deletable": false,
    "editable": false,
    "nbgrader": {
     "grade": false,
     "grade_id": "0c2615",
     "locked": true,
     "schema_version": 3,
     "solution": false,
     "task": false
    }
   },
   "source": [
    "# PHYS 210 Mini-Project 05\n",
    "### Diffusion\n",
    "Due Wed, Dec 07, 2022 - 9am"
   ]
  },
  {
   "cell_type": "code",
   "execution_count": null,
   "metadata": {
    "collapsed": false,
    "deletable": false,
    "nbgrader": {
     "cell_type": "code",
     "checksum": "684742de8c51d0b70a07c5b1b901bcb9",
     "grade": true,
     "grade_id": "cell-project5-1",
     "locked": false,
     "points": 0,
     "schema_version": 3,
     "solution": true,
     "task": false
    }
   },
   "outputs": [],
   "source": [
    "# Main code and animation here\n",
    "# YOUR CODE HERE\n",
    "import numpy as np\n",
    "import matplotlib as mat\n",
    "import matplotlib.pyplot as plt\n",
    "import matplotlib.animation as animation\n",
    "from IPython.display import HTML\n",
    "from scipy.optimize import curve_fit\n",
    "\n",
    "# Constants:\n",
    "L = 1  # Size of 'box'\n",
    "D = 1e-3\n",
    "# We will include the phantom grid perimeter in our number of points\n",
    "# to minimize additional complicated bookkeeping\n",
    "N = 101\n",
    "\n",
    "dt = 1e-2\n",
    "dx = L / N\n",
    "\n",
    "# tmax = 11\n",
    "tmax = 100\n",
    "steps = int(tmax / dt) + 1\n",
    "\n",
    "# Choose some times to make plots, given in step numbers:\n",
    "plotsteps = np.arange(0, tmax + 0.2, 0.2)\n",
    "plotsteps /= dt\n",
    "plotsteps = plotsteps.astype(int)\n",
    "\n",
    "# Choose some times for 1D C(x, y, t), given in step numbers:\n",
    "plotsteps2 = np.linspace(0.01, 10, num=30)\n",
    "plotsteps2 /= dt\n",
    "plotsteps2 = plotsteps2.astype(int)\n",
    "\n",
    "# Create initial conditions:\n",
    "C = np.zeros((N, N))\n",
    "\n",
    "# Set particles in a blob in the center:\n",
    "C[N // 2][N // 2] = 10\n",
    "\n",
    "# animation setup\n",
    "fig = plt.figure()\n",
    "fig.set_size_inches(10, 8)\n",
    "fig.set_dpi(256)\n",
    "plt.title(\"Evolution of C(x, y, t) from 0 ~ 100 second\")\n",
    "ims = []  # list to store pcolormeshes\n",
    "\n",
    "# Our initial number of particles is the sum of C across\n",
    "# all of our non-phantom grid points\n",
    "isum = np.sum(C[1:-1][1:-1])\n",
    "k = D * dt / dx**2\n",
    "# print(k)\n",
    "\n",
    "# C-prime (the concentrations after each time step)\n",
    "Cp = np.zeros((N, N))\n",
    "\n",
    "# List to store data to fit in the gaussian curve\n",
    "time_C_1D = []\n",
    "stddev_arr = []\n",
    "x_data = np.arange(N)\n",
    "concentration_sum = []\n",
    "\n",
    "\n",
    "def Gaussian_fit(x, amp, mu, std):\n",
    "    \"\"\"\n",
    "    Function of a Gaussian Curve used to fit the 1D C(x, y, t)\n",
    "    amp = constant related to the amplitude of the curve\n",
    "    mu = mean\n",
    "    std = standard deviation\n",
    "    \"\"\"\n",
    "    return amp / std * np.sqrt(2 * np.pi) * np.exp(-0.5 * (x - mu)**2 / std**2)\n",
    "\n",
    "\n",
    "# time evolution using for loop (p)\n",
    "for p in range(steps):\n",
    "    t = round(p * dt, 2)  # time at this particular step\n",
    "    # 1 Implement the diffision equation at all non-phantom grid points:\n",
    "    Cp[1:-1, 1:-1] = C[1:-1, 1:-1] + k * (\n",
    "        ((C[2:, 1:-1] - 2 * C[1:-1, 1:-1] + C[:-2, 1:-1]) +\n",
    "         (C[1:-1, 2:] - 2 * C[1:-1, 1:-1] + C[1:-1, :-2])))\n",
    "\n",
    "    # The phantom grid points are just reflections of their neighbours\n",
    "    # on the other side of the boundary (to maintain dC/dx = 0):\n",
    "    Cp[0, :] = Cp[1, :]\n",
    "    Cp[:, 0] = Cp[:, 1]\n",
    "    Cp[-1, :] = Cp[-2, :]\n",
    "    Cp[:, -1] = Cp[:, -2]\n",
    "\n",
    "    # Update C to be Cp and then Cp will get overwritten on the next loop:\n",
    "    C, Cp = Cp, C\n",
    "\n",
    "    # 2 append to animated array\n",
    "    if p in plotsteps:\n",
    "        img = plt.pcolormesh(C)\n",
    "        ims.append((img, ))\n",
    "\n",
    "    # 3 Fit the gaussian curve to 30 1D frames between 0.01 and 10s\n",
    "    if p in plotsteps2:\n",
    "        y = C[:][N // 2]\n",
    "        # plt.plot(y, label=\"t = %g\" % (t))\n",
    "        # full width of the gaussian curve\n",
    "        full_width = np.where(y != 0)\n",
    "        # standard deviation of the gaussian curve as 34.1% of its width\n",
    "        s = (np.max(full_width) - np.min(full_width)) * 0.341\n",
    "        popt, pcov = curve_fit(Gaussian_fit,\n",
    "                               xdata=x_data,\n",
    "                               ydata=y,\n",
    "                               p0=[max(y) * np.sqrt(2 * np.pi) * s, 50, s])\n",
    "        # divide the fitted standard deviation by 100\n",
    "        # to fit back to the 1x1 grid\n",
    "        # and append it to an array to plot the data later\n",
    "        stddev_arr.append(popt[2] / 100)\n",
    "        # plt.plot(x_data,\n",
    "        #          Gaussian_fit(x_data, *popt), '--k',\n",
    "        #          label=\"fit - t = %g\" % (t))\n",
    "        time_C_1D.append(t)  # timestamp for each 1D array\n",
    "        # print(t)\n",
    "        # print(C[:][N // 2])\n",
    "\n",
    "    # 4 data to plot the total concentration vs t\n",
    "    concentration_sum.append(np.sum(C[1:-2][1:-2]))\n",
    "\n",
    "# # print(C_1Dim)\n",
    "# plt.legend()\n",
    "# plt.show()\n",
    "# plt.close()\n",
    "# print(\"start animation.\")\n",
    "# create animation\n",
    "imani = animation.ArtistAnimation(fig, ims, repeat_delay=10)\n",
    "plt.colorbar(img)\n",
    "imani.save('Cxyt_Evolution.gif', writer=animation.PillowWriter(fps=60))\n",
    "plt.close()  # Prevents a stray plot from appearing\n",
    "del ims  # Release crucial Cocal memory related to these objects\n",
    "del imani  #\n",
    "HTML('<img src=\"Cxyt_Evolution.gif\">')\n",
    "\n",
    "# If the boundary conditions are done correctly, the number of particles\n",
    "# (the integral of C), should be constant. Check:\n",
    "esum = np.sum(C[1:-1][1:-1])\n",
    "print(\"initial and final integrals of concentration: {:.2f} and {:.2f}\".format(\n",
    "    isum, esum))"
   ]
  },
  {
   "cell_type": "code",
   "execution_count": null,
   "metadata": {
    "collapsed": false,
    "deletable": false,
    "nbgrader": {
     "cell_type": "code",
     "checksum": "83698521a36f912a804b4218f7053fc8",
     "grade": true,
     "grade_id": "cell-project5-2",
     "locked": false,
     "points": 0,
     "schema_version": 3,
     "solution": true,
     "task": false
    }
   },
   "outputs": [],
   "source": [
    "# Plot of Gaussian width vs sqrt(t) here:\n",
    "# YOUR CODE HERE\n",
    "\n",
    "plt.scatter(np.sqrt(time_C_1D), stddev_arr, label=\"stddev\")\n",
    "newt = np.arange(0, 10, 0.01)\n",
    "plt.plot(np.sqrt(newt), np.sqrt(2 * D * newt), label=\"sqrt(2Dt)\")\n",
    "plt.xlabel(\"Square root of time (s)\")\n",
    "plt.ylabel(\"Gaussian Width\")\n",
    "plt.title(\"Gaussian wiidth vs sqrt(t)\")\n",
    "plt.legend()\n",
    "plt.show()\n",
    "plt.close()"
   ]
  },
  {
   "cell_type": "code",
   "execution_count": null,
   "metadata": {
    "collapsed": false,
    "deletable": false,
    "nbgrader": {
     "cell_type": "code",
     "checksum": "4c13e61d9dae147dc0f558b1259f122c",
     "grade": true,
     "grade_id": "cell-project5-3",
     "locked": false,
     "points": 0,
     "schema_version": 3,
     "solution": true,
     "task": false
    }
   },
   "outputs": [],
   "source": [
    "# Plot of particle count (sum of non-phantom C) vs t here:\n",
    "# YOUR CODE HERE\n",
    "\n",
    "plt.plot(np.arange(0, tmax+dt, dt), concentration_sum)\n",
    "plt.ylim([0, 11])\n",
    "plt.xlim([0, tmax])\n",
    "plt.xlabel(\"Time (s)\")\n",
    "plt.ylabel(\"Total Concentration\")\n",
    "plt.title(\"Total concentration of C(x, y) vs t\")\n",
    "plt.show()\n",
    "plt.close()"
   ]
  },
  {
   "cell_type": "markdown",
   "metadata": {
    "collapsed": false,
    "deletable": false,
    "nbgrader": {
     "cell_type": "markdown",
     "checksum": "d9113006d46465afb31bf32b6cd8da89",
     "grade": true,
     "grade_id": "cell-project5-4",
     "locked": false,
     "points": 0,
     "schema_version": 3,
     "solution": true,
     "task": false
    }
   },
   "source": [
    "### Your answers to text questions for Part 5 questions here. There is an ungraded, un-timed and not-style-checked cell below for you to do your work for anwering these questions\n",
    "\n",
    "Answer the following questions in the space provided in this cell.\n",
    "\n",
    "**5a)** What happens to the animation when dt is too large?\n",
    "\n",
    "\n",
    "\n",
    "**5b)** What is the value of dt where the simulation diverges? \n",
    "\n",
    "\n",
    "\n",
    "**5c)** What is the value of $dt \\, D/dx^2$ where the simulation starts to diverge? \n",
    "\n",
    "\n",
    "\n",
    "**5d)** What happens to the sums you generate for question (4) when the simulation diverges?  \n",
    "\n",
    "\n",
    "\n",
    "**5e)** If you use a grid of only 51x51 points, where is the threshold for dt to converge now? \n",
    "\n",
    "\n",
    "\n",
    "\n",
    "YOUR ANSWER HERE\n",
    "\n",
    "**5a)** The solution will diverge when dt is too large\n",
    "\n",
    "**5b)** dt = 2.5e-2 = 0.025\n",
    "\n",
    "**5c)** dt D / dx^2 = 2.5e-2 * 1e-3 / (L/N)^2, L = 1, N = 101, dt D / dx^2 = 0.255025\n",
    "\n",
    "**5d)** The sum is supposed to remain 10 when the system converges. In this case, the sum of C(x, y, t) increases to inf from 10 as dt increases from 2.5e-2.\n",
    "\n",
    "**5e)** dt should be <= 7.5e-2 for a system with 51x51 points to converge"
   ]
  },
  {
   "cell_type": "code",
   "execution_count": null,
   "metadata": {
    "collapsed": false,
    "deletable": false,
    "nbgrader": {
     "cell_type": "code",
     "checksum": "725daaa64359a82e4d255836a708c236",
     "grade": true,
     "grade_id": "cell-project5-5",
     "locked": false,
     "points": 0,
     "schema_version": 3,
     "solution": true,
     "task": false
    }
   },
   "outputs": [],
   "source": [
    "# Main code and animation here\n",
    "# YOUR CODE HERE\n",
    "import numpy as np\n",
    "import matplotlib.pyplot as plt\n",
    "import matplotlib.animation as animation\n",
    "from IPython.display import HTML\n",
    "from scipy.optimize import curve_fit\n",
    "\n",
    "\n",
    "def funct(N, dt):\n",
    "    print(\"dt = \", dt)\n",
    "    # Constants:\n",
    "    L = 1  # Size of 'box'\n",
    "    D = 1e-3\n",
    "    # We will include the phantom grid perimeter in our number of points\n",
    "    # to minimize additional complicated bookkeeping\n",
    "\n",
    "    dx = L / N\n",
    "\n",
    "    tmax = 11\n",
    "    # tmax = 100\n",
    "    steps = int(tmax / dt) + 1\n",
    "\n",
    "    # Choose some times for 1D C(x, y, t), given in step numbers:\n",
    "    plotsteps2 = np.linspace(0.01, 10, num=30)\n",
    "    plotsteps2 /= dt\n",
    "    plotsteps2 = plotsteps2.astype(int)\n",
    "\n",
    "    # Create initial conditions:\n",
    "    C = np.zeros((N, N))\n",
    "\n",
    "    # Set particles in a blob in the center:\n",
    "    C[N // 2][N // 2] = 10\n",
    "\n",
    "    # Our initial number of particles is the sum of C across\n",
    "    # all of our non-phantom grid points\n",
    "    isum = np.sum(C[1:-1][1:-1])\n",
    "    k = D * dt / dx**2\n",
    "    # print(k)\n",
    "\n",
    "    # C-prime (the concentrations after each time step)\n",
    "    Cp = np.zeros((N, N))\n",
    "\n",
    "    # time evolution using for loop (p)\n",
    "    for p in range(steps):\n",
    "        t = round(p * dt, 2)  # time at this particular step\n",
    "        # 1 Implement the diffision equation at all non-phantom grid points:\n",
    "        Cp[1:-1, 1:-1] = C[1:-1, 1:-1] + k * (\n",
    "            ((C[2:, 1:-1] - 2 * C[1:-1, 1:-1] + C[:-2, 1:-1]) +\n",
    "             (C[1:-1, 2:] - 2 * C[1:-1, 1:-1] + C[1:-1, :-2])))\n",
    "\n",
    "        # The phantom grid points are just reflections of their neighbours\n",
    "        # on the other side of the boundary (to maintain dC/dx = 0):\n",
    "        Cp[0, :] = Cp[1, :]\n",
    "        Cp[:, 0] = Cp[:, 1]\n",
    "        Cp[-1, :] = Cp[-2, :]\n",
    "        Cp[:, -1] = Cp[:, -2]\n",
    "\n",
    "        # Update C to be Cp and then Cp will get overwritten on the next loop:\n",
    "        C, Cp = Cp, C\n",
    "\n",
    "        # 3 Fit the gaussian curve to 30 1D frames between 0.01 and 10s\n",
    "        if p in plotsteps2:\n",
    "            y = C[:][N // 2]\n",
    "            plt.plot(y, label=\"t = %g\" % (t))\n",
    "    plt.show()\n",
    "    plt.close()\n",
    "    # If the boundary conditions are done correctly, the number of particles\n",
    "    # (the integral of C), should be constant. Check:\n",
    "    esum = np.sum(C[1:-1][1:-1])\n",
    "    print(\"initial and final integrals of concentration: {:.2f} and {:.2f}\".\n",
    "          format(isum, esum))\n",
    "    return\n",
    "\n",
    "\n",
    "# funct(51, 7.5e-2)\n",
    "# funct(51, 9.6e-2)\n",
    "# funct(51, 9.8e-2)"
   ]
  },
  {
   "cell_type": "markdown",
   "metadata": {
    "collapsed": false,
    "deletable": false,
    "editable": false,
    "nbgrader": {
     "grade": false,
     "grade_id": "cf5dfa",
     "locked": true,
     "schema_version": 3,
     "solution": false,
     "task": false
    }
   },
   "source": [
    "# Acknowledgements\n",
    "\n",
    "In the cell below, please describe the role of **anyone other than yourself** who contributed to the work shown in this notebook.\n",
    "\n",
    "Its ok to get help from us and classmates! Please get in the habit of acknowledging such contributions.\n",
    "\n",
    "If you want to refer to a classmate, please use only their cocalc email-id and not their name - or you could just say something like: \"a classmate gave me the idea to use xxx feature to solve yyy problem.\"\n"
   ]
  },
  {
   "cell_type": "markdown",
   "metadata": {
    "collapsed": false
   },
   "source": [
    "_Acknowledgements here:_\n",
    "\n"
   ]
  },
  {
   "cell_type": "markdown",
   "metadata": {
    "collapsed": false,
    "deletable": false,
    "editable": false,
    "nbgrader": {
     "grade": false,
     "grade_id": "5a51c40",
     "locked": true,
     "schema_version": 3,
     "solution": false,
     "task": false
    }
   },
   "source": [
    "# Extension Code and Description\n",
    "All solution code for the main project question should appear in the two main cells above above. Project extensions go in the cell \"cell-extension\" immediately below and the descriptions of your extension go in the cell below that."
   ]
  },
  {
   "cell_type": "code",
   "execution_count": null,
   "metadata": {
    "collapsed": false,
    "deletable": false,
    "nbgrader": {
     "cell_type": "code",
     "checksum": "887dd39afb49072de92ec16acce3a808",
     "grade": true,
     "grade_id": "cell-extension",
     "locked": false,
     "points": 3,
     "schema_version": 3,
     "solution": true,
     "task": false
    }
   },
   "outputs": [],
   "source": [
    "# OPTIONAL project extension here\n",
    "# These can call functions in your code above if desired\n",
    "\n"
   ]
  },
  {
   "cell_type": "markdown",
   "metadata": {
    "collapsed": false
   },
   "source": [
    "_In this cell, please describe any new language features or project extension you have implemented:_\n",
    "\n",
    "\n"
   ]
  },
  {
   "cell_type": "markdown",
   "metadata": {
    "collapsed": false,
    "deletable": false,
    "editable": false,
    "nbgrader": {
     "grade": false,
     "grade_id": "grading-header",
     "locked": true,
     "schema_version": 3,
     "solution": false,
     "task": false
    }
   },
   "source": [
    "# Grading cells\n",
    "The cells below marked as \"grade use only\" are created as placeholders so that we can provide a manual grade and comments for each category. \n",
    "\n",
    "Exceptions are the \"2. Style\" test, which has an associated autograder test that you can run to check style and the timing cell \"cell-optimization0\", which you can use to test your code execution time."
   ]
  },
  {
   "cell_type": "code",
   "execution_count": null,
   "metadata": {
    "collapsed": false,
    "deletable": false,
    "nbgrader": {
     "cell_type": "code",
     "checksum": "5fddc8dcc07404068c6f34898e8762c9",
     "grade": true,
     "grade_id": "cell-executes",
     "locked": false,
     "points": 20,
     "schema_version": 3,
     "solution": true,
     "task": false
    }
   },
   "outputs": [],
   "source": [
    "# 1. Code execution (grader use only)"
   ]
  },
  {
   "cell_type": "code",
   "execution_count": null,
   "metadata": {
    "collapsed": false,
    "deletable": false,
    "editable": false,
    "nbgrader": {
     "grade": true,
     "grade_id": "cell-style",
     "locked": true,
     "points": 5,
     "schema_version": 3,
     "solution": false,
     "task": false
    }
   },
   "outputs": [],
   "source": [
    "# 2. Style: pep8 (see note below regarding use of the Format button to fix many errors)\n",
    "#\n",
    "# Tests for pep8 returns warnings or errors. You may need to hit 'Save' after making changes for them to take effect.\n",
    "nb_name = \"project05.ipynb\"\n",
    "cells_to_check = []\n",
    "stop_at = ['cell-extension']\n",
    "# check_style2.py uses cells_to_check and nb_name\n",
    "%run -i check_style2.py"
   ]
  },
  {
   "cell_type": "markdown",
   "metadata": {
    "collapsed": false,
    "deletable": false,
    "editable": false,
    "nbgrader": {
     "grade": false,
     "grade_id": "87d438",
     "locked": true,
     "schema_version": 3,
     "solution": false,
     "task": false
    }
   },
   "source": [
    "Also note that you can use the Format button while in a code cell to automagically fix most pep8 errors (other than way too long print statements)\n",
    "\n",
    "![](project02-format.png)"
   ]
  },
  {
   "cell_type": "code",
   "execution_count": null,
   "metadata": {
    "collapsed": false,
    "deletable": false,
    "nbgrader": {
     "cell_type": "code",
     "checksum": "0bfba331bdaa16e3e38c7f315efdff77",
     "grade": true,
     "grade_id": "cell-results",
     "locked": false,
     "points": 25,
     "schema_version": 3,
     "solution": true,
     "task": false
    }
   },
   "outputs": [],
   "source": [
    "# 3. Results (grader use only)"
   ]
  },
  {
   "cell_type": "code",
   "execution_count": null,
   "metadata": {
    "collapsed": false,
    "deletable": false,
    "nbgrader": {
     "cell_type": "code",
     "checksum": "f39a7cf08454b2b3946e33e39f851429",
     "grade": true,
     "grade_id": "cell-readability",
     "locked": false,
     "points": 30,
     "schema_version": 3,
     "solution": true,
     "task": false
    }
   },
   "outputs": [],
   "source": [
    "# 4. Readability (grader use only)"
   ]
  },
  {
   "cell_type": "code",
   "execution_count": null,
   "metadata": {
    "collapsed": false,
    "deletable": false,
    "nbgrader": {
     "cell_type": "code",
     "checksum": "5f88731ac323e35ec9219653b4ac085b",
     "grade": true,
     "grade_id": "cell-plots",
     "locked": false,
     "points": 15,
     "schema_version": 3,
     "solution": true,
     "task": false
    }
   },
   "outputs": [],
   "source": [
    "# 5. Plot (grader use only)"
   ]
  },
  {
   "cell_type": "code",
   "execution_count": null,
   "metadata": {
    "collapsed": false,
    "deletable": false,
    "editable": false,
    "nbgrader": {
     "grade": true,
     "grade_id": "cell-optimization0",
     "locked": true,
     "points": 0,
     "schema_version": 3,
     "solution": false,
     "task": false
    }
   },
   "outputs": [],
   "source": [
    "# Check execution time\n",
    "nb_name = \"project05.ipynb\"\n",
    "cells_to_time = []\n",
    "stop_at = ['cell-extension']\n",
    "%run -i time_cells2.py"
   ]
  },
  {
   "cell_type": "code",
   "execution_count": null,
   "metadata": {
    "collapsed": false,
    "deletable": false,
    "nbgrader": {
     "cell_type": "code",
     "checksum": "a8a3076187fd64d1224573d70288d2a0",
     "grade": true,
     "grade_id": "cell-optimization1",
     "locked": false,
     "points": 5,
     "schema_version": 3,
     "solution": true,
     "task": false
    }
   },
   "outputs": [],
   "source": [
    "# 5. Code optimization/timing (grader use only)"
   ]
  },
  {
   "cell_type": "code",
   "execution_count": null,
   "metadata": {
    "collapsed": false,
    "deletable": false,
    "nbgrader": {
     "cell_type": "code",
     "checksum": "f3bfbc592099991ad62d237a378affe1",
     "grade": true,
     "grade_id": "cell-new_features",
     "locked": false,
     "points": 2,
     "schema_version": 3,
     "solution": true,
     "task": false
    }
   },
   "outputs": [],
   "source": [
    "# B2. New Functionality/Language features (grader use only)"
   ]
  }
 ],
 "metadata": {
  "celltoolbar": "Create Assignment",
  "kernelspec": {
   "display_name": "Python 3.8.5 ('base')",
   "language": "python",
   "name": "python3"
  },
  "language_info": {
   "codemirror_mode": {
    "name": "ipython",
    "version": 3
   },
   "file_extension": ".py",
   "mimetype": "text/x-python",
   "name": "python",
   "nbconvert_exporter": "python",
   "pygments_lexer": "ipython3",
   "version": "3.8.5"
  },
  "nbgrader": {
   "__altered": false,
   "__hash": -1067242779,
   "_root": {
    "entries": [
     [
      "__altered",
      false
     ],
     [
      "__hash",
      661726806
     ],
     [
      "_root",
      {
       "entries": [
        [
         "__altered",
         false
        ],
        [
         "__hash",
         -203116787
        ],
        [
         "_root",
         {
          "entries": [
           [
            "size",
            5
           ],
           [
            "_root",
            {
             "entries": [
              [
               "__altered",
               false
              ],
              [
               "__hash",
               -404592343
              ],
              [
               "_root",
               {
                "entries": [
                 [
                  "__altered",
                  false
                 ],
                 [
                  "__hash",
                  -679907196
                 ],
                 [
                  "_root",
                  {
                   "entries": [
                    [
                     "__altered",
                     false
                    ],
                    [
                     "__hash",
                     -651869538
                    ],
                    [
                     "_root",
                     {
                      "entries": [
                       [
                        "size",
                        6
                       ],
                       [
                        "_root",
                        {
                         "entries": [
                          [
                           "size",
                           5
                          ],
                          [
                           "_root",
                           {
                            "entries": [
                             [
                              "__altered",
                              false
                             ],
                             [
                              "__hash",
                              -1072767477
                             ],
                             [
                              "_root",
                              {
                               "entries": [
                                [
                                 "size",
                                 6
                                ],
                                [
                                 "_root",
                                 {
                                  "entries": [
                                   [
                                    "size",
                                    1
                                   ],
                                   [
                                    "_root",
                                    {
                                     "entries": [
                                      [
                                       "cocalc_minimal_stubs",
                                       false
                                      ]
                                     ],
                                     "ownerID": {}
                                    }
                                   ],
                                   [
                                    "__ownerID",
                                    null
                                   ],
                                   [
                                    "__hash",
                                    -335098374
                                   ],
                                   [
                                    "__altered",
                                    false
                                   ],
                                   [
                                    "cocalc_minimal_stubs",
                                    false
                                   ]
                                  ],
                                  "ownerID": {}
                                 }
                                ],
                                [
                                 "__hash",
                                 -1062824929
                                ],
                                [
                                 "__altered",
                                 false
                                ],
                                [
                                 "cocalc_minimal_stubs",
                                 false
                                ]
                               ],
                               "ownerID": {}
                              }
                             ],
                             [
                              "cocalc_minimal_stubs",
                              false
                             ],
                             [
                              "size",
                              5
                             ]
                            ],
                            "ownerID": {}
                           }
                          ],
                          [
                           "__ownerID",
                           null
                          ],
                          [
                           "__hash",
                           250283375
                          ],
                          [
                           "__altered",
                           false
                          ],
                          [
                           "cocalc_minimal_stubs",
                           false
                          ]
                         ],
                         "ownerID": {}
                        }
                       ],
                       [
                        "__ownerID",
                        null
                       ],
                       [
                        "__hash",
                        -24045107
                       ],
                       [
                        "__altered",
                        false
                       ],
                       [
                        "cocalc_minimal_stubs",
                        false
                       ]
                      ],
                      "ownerID": {}
                     }
                    ],
                    [
                     "cocalc_minimal_stubs",
                     false
                    ],
                    [
                     "size",
                     6
                    ]
                   ],
                   "ownerID": {}
                  }
                 ],
                 [
                  "cocalc_minimal_stubs",
                  false
                 ],
                 [
                  "size",
                  5
                 ]
                ],
                "ownerID": {}
               }
              ],
              [
               "cocalc_minimal_stubs",
               false
              ],
              [
               "size",
               5
              ]
             ],
             "ownerID": {}
            }
           ],
           [
            "__hash",
            57563853
           ],
           [
            "__altered",
            false
           ],
           [
            "cocalc_minimal_stubs",
            false
           ]
          ],
          "ownerID": {}
         }
        ],
        [
         "cocalc_minimal_stubs",
         false
        ],
        [
         "size",
         5
        ]
       ],
       "ownerID": {}
      }
     ],
     [
      "cocalc_minimal_stubs",
      false
     ],
     [
      "size",
      5
     ]
    ],
    "ownerID": {}
   },
   "cocalc_minimal_stubs": false,
   "size": 5
  },
  "vscode": {
   "interpreter": {
    "hash": "5244e453a32edc7a8078066d929638a5a6226b7f501c8ffabfe8212afb9d979d"
   }
  }
 },
 "nbformat": 4,
 "nbformat_minor": 4
}
