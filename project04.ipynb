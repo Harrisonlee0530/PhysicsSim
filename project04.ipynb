{
 "cells": [
  {
   "cell_type": "markdown",
   "metadata": {
    "collapsed": false,
    "deletable": false,
    "editable": false,
    "nbgrader": {
     "grade": false,
     "grade_id": "0c2615",
     "locked": true,
     "schema_version": 3,
     "solution": false,
     "task": false
    }
   },
   "source": [
    "# PHYS 210 Mini-Project 04\n",
    "### Maxwell Boltzmann Distribution\n",
    "Due Wed, Nov 30, 2022 - 9am"
   ]
  },
  {
   "cell_type": "code",
   "execution_count": 60,
   "metadata": {
    "collapsed": false,
    "deletable": false,
    "nbgrader": {
     "cell_type": "code",
     "checksum": "514989720f51dab882bad6034aabe742",
     "grade": true,
     "grade_id": "cell-project4-1",
     "locked": false,
     "points": 0,
     "schema_version": 3,
     "solution": true,
     "task": false
    }
   },
   "outputs": [
    {
     "name": "stdout",
     "output_type": "stream",
     "text": [
      "....................................................................................................................................................................................................................................................................................................................................................................................................................................................................................................................."
     ]
    }
   ],
   "source": [
    "# Main code and animation here\n",
    "import numpy as np\n",
    "import matplotlib.pyplot as plt\n",
    "import matplotlib.animation as animation\n",
    "from itertools import combinations\n",
    "from IPython.display import HTML\n",
    "import matplotlib\n",
    "from scipy.optimize import curve_fit\n",
    "\n",
    "# Do your testing using smaller numbers than these\n",
    "# (Running this code as is will take a very long time)\n",
    "npoint = 400\n",
    "nframe = 500\n",
    "xmin, xmax, ymin, ymax = 0, 1, 0, 1\n",
    "Dt = 0.00002  # time step\n",
    "particle_radius = 0.0015  # meter\n",
    "particle_mass = 2.672e-26  # kg\n",
    "\n",
    "\n",
    "def dot(A, B):\n",
    "    \"\"\" Calculates and returns the dot product of vector A and B \"\"\"\n",
    "    return A[0] * B[0] + A[1] * B[1]\n",
    "\n",
    "\n",
    "def change_velocity(index1, index2):\n",
    "    \"\"\"\n",
    "    Changes velocities of particles with index1 and index2\n",
    "    new velocities is given by the equation\n",
    "    Va' = Va - (Va - Vb)·(Ra - Rb)/(|Ra - Rb|^2) * (Ra - Rb)\n",
    "    \"\"\"\n",
    "    for i in range(len(index1)):\n",
    "        p1_index = index1[i]\n",
    "        p2_index = index2[i]\n",
    "\n",
    "        # extract the x, y position of particle 1, 2\n",
    "        R = [x[p1_index], y[p1_index], x[p2_index], y[p2_index]]\n",
    "        # extract the x, y velocity of particle 1, 2\n",
    "        V = [vx[p1_index], vy[p1_index], vx[p2_index], vy[p2_index]]\n",
    "\n",
    "        # constant to multiply in calculating new velocity\n",
    "        c1 = dot([V[0] - V[2], V[1] - V[3]], [R[0] - R[2], R[1] - R[3]]) / (\n",
    "            (R[0] - R[2])**2 + (R[1] - R[3])**2)\n",
    "\n",
    "        # update velocity to the original array\n",
    "        vx[p1_index] = V[0] - c1 * (R[0] - R[2])\n",
    "        vy[p1_index] = V[1] - c1 * (R[1] - R[3])\n",
    "        vx[p2_index] = V[2] - c1 * (R[2] - R[0])\n",
    "        vy[p2_index] = V[3] - c1 * (R[3] - R[1])\n",
    "    return\n",
    "\n",
    "\n",
    "def find_index(xx, yy):\n",
    "    \"\"\"\n",
    "    Find the index of collided particles with given xx, yy\n",
    "    by searching x, y position of particle1, 2 in array x, y\n",
    "    returns 2 arrays of the index of particle 1 and particle 2\n",
    "    \"\"\"\n",
    "    P1_index = []\n",
    "    P2_index = []\n",
    "    if len(xx) > 0:\n",
    "        # locating collided particles in x, y\n",
    "        for i in range(len(xx[:, 0])):\n",
    "            p1_x_index = np.where(x == xx[i, 0])\n",
    "            p1_y_index = np.where(y == yy[i, 0])\n",
    "            p2_x_index = np.where(x == xx[i, 1])\n",
    "            p2_y_index = np.where(y == yy[i, 1])\n",
    "            # remove duplicates\n",
    "            if p1_x_index[0] == p1_y_index[0]:\n",
    "                P1_index.append(p1_x_index[0][0])\n",
    "            if p2_x_index[0] == p2_y_index[0]:\n",
    "                P2_index.append(p2_x_index[0][0])\n",
    "    return P1_index, P2_index\n",
    "\n",
    "\n",
    "def update_point(num):\n",
    "    \"\"\"\n",
    "    Update the position, velociities of particles\n",
    "    frames iterated by FuncAnimation\n",
    "    update once every 2 frames\n",
    "    \"\"\"\n",
    "    global x, y, vx, vy  # arrays storing the particles\n",
    "    print('.', end='')  # Provide progress feedback\n",
    "    for i in range(2):\n",
    "        # update the position of particles\n",
    "        dx = Dt * vx\n",
    "        dy = Dt * vy\n",
    "        x = x + dx\n",
    "        y = y + dy\n",
    "\n",
    "        # bounce when particle touches the barrier\n",
    "        indx = np.where((x < xmin) | (x > xmax))\n",
    "        indy = np.where((y < ymin) | (y > ymax))\n",
    "        vx[indx] = -vx[indx]\n",
    "        vy[indy] = -vy[indy]\n",
    "\n",
    "        # find all combinations of particles and calculate their distances\n",
    "        xx = np.asarray(list(combinations(x, 2)))\n",
    "        yy = np.asarray(list(combinations(y, 2)))\n",
    "        # Distances between particles:\n",
    "        dd = ((xx[:, 0] - xx[:, 1])**2 + (yy[:, 0] - yy[:, 1])**2)**0.5\n",
    "\n",
    "        # find index in the combination where distance\n",
    "        # between particles implies collision occurs\n",
    "        collide_index = np.where(dd <= 2 * particle_radius)\n",
    "\n",
    "        # collided combinations\n",
    "        xx = xx[collide_index]\n",
    "        yy = yy[collide_index]\n",
    "        # index of 2 colliding particles in x, y, vx, vy array\n",
    "        P1_index, P2_index = find_index(xx, yy)\n",
    "\n",
    "        # update the velocity of those particles\n",
    "        change_velocity(P1_index, P2_index)\n",
    "\n",
    "    # update particles in the animation\n",
    "    data = np.stack((x, y), axis=-1)\n",
    "    im.set_offsets(data)\n",
    "    return\n",
    "\n",
    "\n",
    "# Set space for particles to collide\n",
    "fig, ax = plt.subplots()\n",
    "plt.xlim(xmin, xmax)\n",
    "plt.ylim(ymin, ymax)\n",
    "\n",
    "# create npoint: (400) particles randomly in the plot\n",
    "x = np.random.random(npoint)\n",
    "y = np.random.random(npoint)\n",
    "\n",
    "# set horizontal and vertical velocities\n",
    "vx = -500. * np.ones(npoint)\n",
    "vy = np.zeros(npoint)\n",
    "\n",
    "# locate the index of particles on the left/right initially\n",
    "indx_left = np.where(x <= 0.5)\n",
    "indx_right = np.where(x > 0.5)\n",
    "\n",
    "# set velocity for particle at x <= 0.5 to 500, x > 5 to -500\n",
    "vx[indx_left] = -vx[indx_left]\n",
    "\n",
    "# set color of particle at x <= 0.5 to blue, x > 0.5 to red\n",
    "color = np.zeros(npoint)\n",
    "color[indx_right] += 1\n",
    "colormap = matplotlib.colors.ListedColormap([\"blue\", \"red\"])\n",
    "im = ax.scatter(x, y, c=color, cmap=colormap, s=1)\n",
    "im.set_sizes([20])\n",
    "\n",
    "\n",
    "# animation\n",
    "fig.set_size_inches(5, 5)\n",
    "fig.set_dpi(100)\n",
    "anim = animation.FuncAnimation(fig,\n",
    "                               update_point,\n",
    "                               nframe,\n",
    "                               interval=30,\n",
    "                               repeat=False)\n",
    "anim.save('Collision.gif', writer=animation.PillowWriter(fps=60))\n",
    "\n",
    "plt.close()\n"
   ]
  },
  {
   "cell_type": "code",
   "execution_count": 71,
   "metadata": {
    "collapsed": false,
    "deletable": false,
    "nbgrader": {
     "cell_type": "code",
     "checksum": "820ed7dba3283f0827ec3906b2aa1bea",
     "grade": true,
     "grade_id": "cell-project4-2",
     "locked": false,
     "points": 0,
     "schema_version": 3,
     "solution": true,
     "task": false
    }
   },
   "outputs": [
    {
     "name": "stdout",
     "output_type": "stream",
     "text": [
      "Estimated Temperature = 249.68 ± 14.09 Kelvin\n"
     ]
    },
    {
     "data": {
      "image/png": "[encoded data removed]",
      "text/plain": [
       "<Figure size 864x432 with 2 Axes>"
      ]
     },
     "metadata": {
      "needs_background": "light"
     },
     "output_type": "display_data"
    }
   ],
   "source": [
    "# Plots, fits and temperature output line here\n",
    "# YOUR CODE HERE\n",
    "\n",
    "# calculate Speed and Kinetic Energy of every particle\n",
    "speed = (vx**2 + vy**2)**0.5\n",
    "KE = 0.5 * particle_mass * speed**2\n",
    "kB = 1.38e-23  # Boltzmann constant (kg s-2 K-1)\n",
    "\n",
    "\n",
    "def fit_speed(v, T):\n",
    "    \"\"\" Maxwell Boltzmann distribution of speed to fit \"\"\"\n",
    "    return particle_mass * v * np.exp(-particle_mass * v**2 /\n",
    "                                      (2 * kB * T)) / (kB * T)\n",
    "\n",
    "\n",
    "def fit_KE(E, T):\n",
    "    \"\"\" Boltzmann distribution of Kinetic Energy \"\"\"\n",
    "    return np.exp(-E / (kB * T)) / (kB * T)\n",
    "\n",
    "\n",
    "# initial guess of the temperature of the system\n",
    "T_guess = 250\n",
    "\n",
    "# set figure size\n",
    "plt.figure(figsize=(12, 6))\n",
    "\n",
    "# speed distribution\n",
    "plt.subplot(1, 2, 1)\n",
    "\n",
    "# plot histogram and get data to fit\n",
    "counts, bins, patches = plt.hist(speed,\n",
    "                                 density=True,\n",
    "                                 bins=25,\n",
    "                                 label='Speed Distribution')\n",
    "bin_center = np.array(\n",
    "    [0.5 * (bins[i] + bins[i + 1]) for i in range(len(bins) - 1)])\n",
    "\n",
    "# fitted data, popt = fitted parameters\n",
    "popt, pcov = curve_fit(fit_speed, xdata=bin_center, ydata=counts, p0=T_guess)\n",
    "# errors of the fitted parameters\n",
    "perr = np.sqrt(np.diag(pcov))\n",
    "\n",
    "# print estimated temperature obtained by fitting the speed distribution\n",
    "print(\"Estimated Temperature = {e_t} ± {e} Kelvin\".format(\n",
    "    e=np.round(perr[0], 2), e_t=np.round(popt[0], 2)))\n",
    "\n",
    "new_data = np.unique(speed)\n",
    "plt.plot(new_data,\n",
    "         fit_speed(new_data, *popt),\n",
    "         label='Fitted Speed Distribution')\n",
    "\n",
    "plt.legend()\n",
    "plt.title(\"Speed Distribution of Particles\")\n",
    "plt.xlabel(\"Speed v (m/s)\")\n",
    "plt.ylabel(\"Probability\")\n",
    "\n",
    "# KE distribution\n",
    "plt.subplot(1, 2, 2)\n",
    "\n",
    "# plot histogram\n",
    "plt.hist(KE, density=True, bins=25, label='KE Distribution')\n",
    "# plot analytical g(E) with fitted temperature\n",
    "new_data = np.unique(KE)\n",
    "plt.plot(new_data, fit_KE(new_data, popt[0]), label='Analytical g(E)')\n",
    "\n",
    "plt.legend()\n",
    "plt.title(\"Energy Distribution of Particles\")\n",
    "plt.xlabel(\"Kinetic Energy KE (J)\")\n",
    "plt.ylabel(\"Probability\")\n",
    "\n",
    "plt.tight_layout()\n",
    "plt.show()\n",
    "plt.close()"
   ]
  },
  {
   "cell_type": "markdown",
   "metadata": {
    "collapsed": false,
    "deletable": false,
    "editable": false,
    "nbgrader": {
     "grade": false,
     "grade_id": "cf5dfa",
     "locked": true,
     "schema_version": 3,
     "solution": false,
     "task": false
    }
   },
   "source": [
    "# Acknowledgements\n",
    "\n",
    "In the cell below, please describe the role of **anyone other than yourself** who contributed to the work shown in this notebook.\n",
    "\n",
    "Its ok to get help from us and classmates! Please get in the habit of acknowledging such contributions.\n",
    "\n",
    "If you want to refer to a classmate, please use only their cocalc email-id and not their name - or you could just say something like: \"a classmate gave me the idea to use xxx feature to solve yyy problem.\"\n"
   ]
  },
  {
   "cell_type": "markdown",
   "metadata": {
    "collapsed": false
   },
   "source": [
    "_Acknowledgements here:_\n",
    "\n"
   ]
  },
  {
   "cell_type": "markdown",
   "metadata": {
    "collapsed": false,
    "deletable": false,
    "editable": false,
    "nbgrader": {
     "grade": false,
     "grade_id": "5a51c40",
     "locked": true,
     "schema_version": 3,
     "solution": false,
     "task": false
    }
   },
   "source": [
    "# Extension Code and Description\n",
    "All solution code for the main project question should appear in the two main cells above above. Project extensions go in the cell \"cell-extension\" immediately below and the descriptions of your extension go in the cell below that."
   ]
  },
  {
   "cell_type": "code",
   "execution_count": 62,
   "metadata": {
    "collapsed": false,
    "deletable": false,
    "nbgrader": {
     "cell_type": "code",
     "checksum": "887dd39afb49072de92ec16acce3a808",
     "grade": true,
     "grade_id": "cell-extension",
     "locked": false,
     "points": 3,
     "schema_version": 3,
     "solution": true,
     "task": false
    }
   },
   "outputs": [],
   "source": [
    "# OPTIONAL project extension here\n",
    "# These can call functions in your code above if desired\n",
    "# YOUR CODE HERE\n",
    "\n"
   ]
  },
  {
   "cell_type": "markdown",
   "metadata": {
    "collapsed": false
   },
   "source": [
    "_In this cell, please describe any new language features or project extension you have implemented:_\n",
    "\n",
    "\n"
   ]
  },
  {
   "cell_type": "markdown",
   "metadata": {
    "collapsed": false,
    "deletable": false,
    "editable": false,
    "nbgrader": {
     "grade": false,
     "grade_id": "grading-header",
     "locked": true,
     "schema_version": 3,
     "solution": false,
     "task": false
    }
   },
   "source": [
    "# Grading cells\n",
    "The cells below marked as \"grade use only\" are created as placeholders so that we can provide a manual grade and comments for each category. \n",
    "\n",
    "Exceptions are the \"2. Style\" test, which has an associated autograder test that you can run to check style and the timing cell \"cell-optimization0\", which you can use to test your code execution time."
   ]
  },
  {
   "cell_type": "code",
   "execution_count": 63,
   "metadata": {
    "collapsed": false,
    "deletable": false,
    "nbgrader": {
     "cell_type": "code",
     "checksum": "5fddc8dcc07404068c6f34898e8762c9",
     "grade": true,
     "grade_id": "cell-executes",
     "locked": false,
     "points": 20,
     "schema_version": 3,
     "solution": true,
     "task": false
    }
   },
   "outputs": [],
   "source": [
    "# 1. Code execution (grader use only)"
   ]
  },
  {
   "cell_type": "code",
   "execution_count": 64,
   "metadata": {
    "collapsed": false,
    "deletable": false,
    "editable": false,
    "nbgrader": {
     "grade": true,
     "grade_id": "cell-style",
     "locked": true,
     "points": 5,
     "schema_version": 3,
     "solution": false,
     "task": false
    }
   },
   "outputs": [
    {
     "name": "stdout",
     "output_type": "stream",
     "text": [
      "checking cell: cell-project4-1\n",
      "checking cell: cell-project4-2\n"
     ]
    }
   ],
   "source": [
    "# 2. Style: pep8 (see note below regarding use of the Format button to fix many errors)\n",
    "#\n",
    "# Tests for pep8 returns warnings or errors. You may need to hit 'Save' after making changes for them to take effect.\n",
    "nb_name = \"project04.ipynb\"\n",
    "cells_to_check = []\n",
    "stop_at = ['cell-extension']\n",
    "# check_style2.py uses cells_to_check and nb_name\n",
    "%run -i check_style2.py"
   ]
  },
  {
   "cell_type": "markdown",
   "metadata": {
    "collapsed": false,
    "deletable": false,
    "editable": false,
    "nbgrader": {
     "grade": false,
     "grade_id": "87d438",
     "locked": true,
     "schema_version": 3,
     "solution": false,
     "task": false
    }
   },
   "source": [
    "Also note that you can use the Format button while in a code cell to automagically fix most pep8 errors (other than way too long print statements)\n",
    "\n",
    "![](project02-format.png)"
   ]
  },
  {
   "cell_type": "code",
   "execution_count": 65,
   "metadata": {
    "collapsed": false,
    "deletable": false,
    "nbgrader": {
     "cell_type": "code",
     "checksum": "0bfba331bdaa16e3e38c7f315efdff77",
     "grade": true,
     "grade_id": "cell-results",
     "locked": false,
     "points": 25,
     "schema_version": 3,
     "solution": true,
     "task": false
    }
   },
   "outputs": [],
   "source": [
    "# 3. Results (grader use only)"
   ]
  },
  {
   "cell_type": "code",
   "execution_count": 66,
   "metadata": {
    "collapsed": false,
    "deletable": false,
    "nbgrader": {
     "cell_type": "code",
     "checksum": "f39a7cf08454b2b3946e33e39f851429",
     "grade": true,
     "grade_id": "cell-readability",
     "locked": false,
     "points": 30,
     "schema_version": 3,
     "solution": true,
     "task": false
    }
   },
   "outputs": [],
   "source": [
    "# 4. Readability (grader use only)"
   ]
  },
  {
   "cell_type": "code",
   "execution_count": 67,
   "metadata": {
    "collapsed": false,
    "deletable": false,
    "nbgrader": {
     "cell_type": "code",
     "checksum": "5f88731ac323e35ec9219653b4ac085b",
     "grade": true,
     "grade_id": "cell-plots",
     "locked": false,
     "points": 15,
     "schema_version": 3,
     "solution": true,
     "task": false
    }
   },
   "outputs": [],
   "source": [
    "# 5. Plot (grader use only)"
   ]
  },
  {
   "cell_type": "code",
   "execution_count": 68,
   "metadata": {
    "collapsed": false,
    "deletable": false,
    "editable": false,
    "nbgrader": {
     "grade": true,
     "grade_id": "cell-optimization0",
     "locked": true,
     "points": 0,
     "schema_version": 3,
     "solution": false,
     "task": false
    }
   },
   "outputs": [
    {
     "name": "stdout",
     "output_type": "stream",
     "text": [
      ".....................................................................................................................................................................................................................................................................................................................................................................................................................................................................................................................Time for cell: cell-project4-1 time: 128.25\n",
      "Estimated Temperature = 249.68 ± 14.09 Kelvin\n"
     ]
    },
    {
     "data": {
      "image/png": "[encoded data removed]",
      "text/plain": [
       "<Figure size 864x432 with 2 Axes>"
      ]
     },
     "metadata": {
      "needs_background": "light"
     },
     "output_type": "display_data"
    },
    {
     "name": "stdout",
     "output_type": "stream",
     "text": [
      "Time for cell: cell-project4-2 time: 0.73\n",
      "Total time: 128.98\n"
     ]
    }
   ],
   "source": [
    "# Check execution time\n",
    "nb_name = \"project04.ipynb\"\n",
    "cells_to_time = []\n",
    "stop_at = ['cell-extension']\n",
    "%run -i time_cells2.py"
   ]
  },
  {
   "cell_type": "code",
   "execution_count": 69,
   "metadata": {
    "collapsed": false,
    "deletable": false,
    "nbgrader": {
     "cell_type": "code",
     "checksum": "a8a3076187fd64d1224573d70288d2a0",
     "grade": true,
     "grade_id": "cell-optimization1",
     "locked": false,
     "points": 5,
     "schema_version": 3,
     "solution": true,
     "task": false
    }
   },
   "outputs": [],
   "source": [
    "# 5. Code optimization/timing (grader use only)"
   ]
  },
  {
   "cell_type": "code",
   "execution_count": 70,
   "metadata": {
    "collapsed": false,
    "deletable": false,
    "nbgrader": {
     "cell_type": "code",
     "checksum": "f3bfbc592099991ad62d237a378affe1",
     "grade": true,
     "grade_id": "cell-new_features",
     "locked": false,
     "points": 2,
     "schema_version": 3,
     "solution": true,
     "task": false
    }
   },
   "outputs": [],
   "source": [
    "# B2. New Functionality/Language features (grader use only)"
   ]
  }
 ],
 "metadata": {
  "celltoolbar": "Create Assignment",
  "kernelspec": {
   "display_name": "Python 3.8.5 ('base')",
   "language": "python",
   "name": "python3"
  },
  "language_info": {
   "codemirror_mode": {
    "name": "ipython",
    "version": 3
   },
   "file_extension": ".py",
   "mimetype": "text/x-python",
   "name": "python",
   "nbconvert_exporter": "python",
   "pygments_lexer": "ipython3",
   "version": "3.8.5"
  },
  "nbgrader": {
   "__altered": false,
   "__hash": -203116787,
   "_root": {
    "entries": [
     [
      "size",
      5
     ],
     [
      "_root",
      {
       "entries": [
        [
         "__altered",
         false
        ],
        [
         "__hash",
         -404592343
        ],
        [
         "_root",
         {
          "entries": [
           [
            "__altered",
            false
           ],
           [
            "__hash",
            -679907196
           ],
           [
            "_root",
            {
             "entries": [
              [
               "__altered",
               false
              ],
              [
               "__hash",
               -651869538
              ],
              [
               "_root",
               {
                "entries": [
                 [
                  "size",
                  6
                 ],
                 [
                  "_root",
                  {
                   "entries": [
                    [
                     "size",
                     5
                    ],
                    [
                     "_root",
                     {
                      "entries": [
                       [
                        "__altered",
                        false
                       ],
                       [
                        "__hash",
                        -1072767477
                       ],
                       [
                        "_root",
                        {
                         "entries": [
                          [
                           "size",
                           6
                          ],
                          [
                           "_root",
                           {
                            "entries": [
                             [
                              "size",
                              1
                             ],
                             [
                              "_root",
                              {
                               "entries": [
                                [
                                 "cocalc_minimal_stubs",
                                 false
                                ]
                               ],
                               "ownerID": {}
                              }
                             ],
                             [
                              "__ownerID",
                              null
                             ],
                             [
                              "__hash",
                              -335098374
                             ],
                             [
                              "__altered",
                              false
                             ],
                             [
                              "cocalc_minimal_stubs",
                              false
                             ]
                            ],
                            "ownerID": {}
                           }
                          ],
                          [
                           "__hash",
                           -1062824929
                          ],
                          [
                           "__altered",
                           false
                          ],
                          [
                           "cocalc_minimal_stubs",
                           false
                          ]
                         ],
                         "ownerID": {}
                        }
                       ],
                       [
                        "cocalc_minimal_stubs",
                        false
                       ],
                       [
                        "size",
                        5
                       ]
                      ],
                      "ownerID": {}
                     }
                    ],
                    [
                     "__ownerID",
                     null
                    ],
                    [
                     "__hash",
                     250283375
                    ],
                    [
                     "__altered",
                     false
                    ],
                    [
                     "cocalc_minimal_stubs",
                     false
                    ]
                   ],
                   "ownerID": {}
                  }
                 ],
                 [
                  "__ownerID",
                  null
                 ],
                 [
                  "__hash",
                  -24045107
                 ],
                 [
                  "__altered",
                  false
                 ],
                 [
                  "cocalc_minimal_stubs",
                  false
                 ]
                ],
                "ownerID": {}
               }
              ],
              [
               "cocalc_minimal_stubs",
               false
              ],
              [
               "size",
               6
              ]
             ],
             "ownerID": {}
            }
           ],
           [
            "cocalc_minimal_stubs",
            false
           ],
           [
            "size",
            5
           ]
          ],
          "ownerID": {}
         }
        ],
        [
         "cocalc_minimal_stubs",
         false
        ],
        [
         "size",
         5
        ]
       ],
       "ownerID": {}
      }
     ],
     [
      "__hash",
      57563853
     ],
     [
      "__altered",
      false
     ],
     [
      "cocalc_minimal_stubs",
      false
     ]
    ],
    "ownerID": {}
   },
   "cocalc_minimal_stubs": false,
   "size": 5
  },
  "vscode": {
   "interpreter": {
    "hash": "5244e453a32edc7a8078066d929638a5a6226b7f501c8ffabfe8212afb9d979d"
   }
  }
 },
 "nbformat": 4,
 "nbformat_minor": 4
}
